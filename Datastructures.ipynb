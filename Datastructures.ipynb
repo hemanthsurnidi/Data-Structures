{
  "nbformat": 4,
  "nbformat_minor": 0,
  "metadata": {
    "colab": {
      "provenance": []
    },
    "kernelspec": {
      "name": "python3",
      "display_name": "Python 3"
    },
    "language_info": {
      "name": "python"
    }
  },
  "cells": [
    {
      "cell_type": "code",
      "execution_count": null,
      "metadata": {
        "id": "X7bXrJuk3fIb"
      },
      "outputs": [],
      "source": []
    },
    {
      "cell_type": "markdown",
      "source": [
        "#Data Structures"
      ],
      "metadata": {
        "id": "jmy8YTXv6toA"
      }
    },
    {
      "cell_type": "markdown",
      "source": [
        "1. What are data structures, and why are they important?\n",
        "\n",
        "A.Data structures are ways of organizing\n",
        "  and storing data efficiently. They help in managing large amounts of data, optimizing performance, and enabling efficient operations like searching, sorting, and manipulation.\n",
        "2. Difference between mutable and\n",
        "immutable data types (with examples)?\n",
        "\n",
        "A.Mutable: Can be changed after  \n",
        "  creation (e.g., list, dict, set).\n",
        "  Immutable: Cannot be changed after creation (e.g., tuple, str, int).\n",
        "\n",
        "3. Differences between lists and tuples in Python?\n",
        "\n",
        "A.Lists are preferred when data needs to\n",
        "  be modified (e.g., dynamic data storage, appending, or deleting elements).\n",
        "  Tuples are useful when data should remain constant, such as storing fixed configurations or ensuring data integrity.\n",
        "\n",
        "4. How do dictionaries store data?\n",
        "\n",
        "A.Dictionaries store data as key-value\n",
        "  pairs using a hash table, where keys are hashed for quick lookups.\n",
        "\n",
        "5. Why use a set instead of a list?\n",
        "\n",
        "A.Sets prevent duplicates and offer\n",
        "  faster membership tests (in operation) due to their hash-based structure.\n",
        "6. What is a string in Python, and how is it different from a list?\n",
        "\n",
        "A. A string is an immutable sequence of\n",
        "   characters, while a list is a mutable collection of elements. Strings cannot be modified after creation, whereas lists allow modifications.\n",
        "\n",
        "7. How do tuples ensure data integrity in Python?\n",
        "\n",
        "A. Tuples are immutable, meaning their\n",
        "   elements cannot be changed after creation. This ensures that the data remains consistent and prevents accidental modifications.\n",
        "\n",
        "8. What is a hash table, and how does it relate to dictionaries in Python?\n",
        "\n",
        "A. A hash table is a data structure that\n",
        "   maps keys to values using a hash function. Python dictionaries are implemented using hash tables, enabling fast data retrieval and storage.\n",
        "\n",
        "9. Can lists contain different data types in Python?\n",
        "\n",
        "A. Yes, Python lists can store multiple\n",
        "   data types, such as integers, strings, floats, and even other lists, making them versatile for various applications.\n",
        "\n",
        "10. Why are strings immutable in Python?\n",
        "\n",
        "A. Strings are immutable to optimize     memory usage, improve security, and\n",
        "   enhance performance by allowing Python to reuse string objects instead of modifying them.\n",
        "\n",
        "11. Advantages of dictionaries over lists?\n",
        "\n",
        "A. Dictionaries offer fast key-based\n",
        "   lookups, efficient data retrieval, and organized storage through key-value pairs, unlike lists, which require sequential searches for element access.\n",
        "\n",
        "12. How do sets handle duplicate values?\n",
        "\n",
        "A. Sets automatically remove duplicate\n",
        "   values when elements are added, ensuring that only unique elements are stored.\n",
        "\n",
        "13. When is a tuple preferable over a list?\n",
        "\n",
        "A. Tuples are preferable when data  \n",
        "   should remain unchanged, such as storing database records, fixed configurations, or function return values that should not be modified.\n",
        "\n",
        "14. How does the in keyword work differently for lists and dictionaries?\n",
        "\n",
        "A. In lists, in checks for the existence\n",
        "   of a value, while in dictionaries, it checks for the existence of a key, making dictionary lookups faster due to hashing.\n",
        "\n",
        "15. Can you modify elements of a tuple? Why/Why not?\n",
        "\n",
        "A. No, tuples are immutable, meaning\n",
        "   their elements cannot be modified after creation. This ensures data consistency and prevents accidental changes.\n",
        "\n",
        "16. What is a nested dictionary?\n",
        "\n",
        "A. A nested dictionary is a dictionary\n",
        "   that contains another dictionary as a value. It is useful for organizing complex hierarchical data, such as storing student records with multiple subjects and scores.\n",
        "\n",
        "17. Time complexity of accessing elements in a dictionary?\n",
        "\n",
        "A. The average time complexity of\n",
        "   accessing elements in a dictionary is O(1) due to the use of hash tables, making lookups efficient.\n",
        "\n",
        "18. When are lists preferred over dictionaries?\n",
        "\n",
        "A. Lists are preferred when order\n",
        "   matters, when sequential access is needed, or when data does not require key-value associations.\n",
        "\n",
        "19. Why are dictionaries considered unordered, and how does that affect retrieval?\n",
        "\n",
        "A. Dictionaries were unordered before    Python 3.7 because they use hash functions for key storage. Although modern versions maintain insertion order, retrieval is still based on key lookups rather than position.\n",
        "\n",
        "20. Difference between lists and dictionaries in terms of data retrieval?\n",
        "\n",
        "A. Lists retrieve data based on index\n",
        "   positions, while dictionaries retrieve data using keys. Dictionary lookups are faster as they use hashing, while list searches take longer for large datasets."
      ],
      "metadata": {
        "id": "rJ59hnFt7dPI"
      }
    },
    {
      "cell_type": "code",
      "source": [
        "# 1. Create a string with your name and print it\n",
        "name = \"Hemanth Surnidi\"\n",
        "print(name)"
      ],
      "metadata": {
        "colab": {
          "base_uri": "https://localhost:8080/"
        },
        "id": "EWr2hQKiAcFp",
        "outputId": "5c1e8e89-e97d-400f-923b-c62f8ae1f8fc"
      },
      "execution_count": 2,
      "outputs": [
        {
          "output_type": "stream",
          "name": "stdout",
          "text": [
            "Hemanth Surnidi\n"
          ]
        }
      ]
    },
    {
      "cell_type": "code",
      "source": [
        "# 2. Find the length of the string \"Hello World\"\n",
        "string_length = len(\"Hello World\")\n",
        "print(string_length)"
      ],
      "metadata": {
        "colab": {
          "base_uri": "https://localhost:8080/"
        },
        "id": "NI1Cu0L-Advr",
        "outputId": "b4e0b2b8-712c-4033-f7aa-4a1eed8ef95b"
      },
      "execution_count": 3,
      "outputs": [
        {
          "output_type": "stream",
          "name": "stdout",
          "text": [
            "11\n"
          ]
        }
      ]
    },
    {
      "cell_type": "code",
      "source": [
        "# 3. Slice the first 3 characters from the string \"Python Programming\"\n",
        "sliced_string = \"Python Programming\"[:3]\n",
        "print(sliced_string)"
      ],
      "metadata": {
        "colab": {
          "base_uri": "https://localhost:8080/"
        },
        "id": "8KmpW3ojAdtF",
        "outputId": "71fa371c-d392-4f1a-d1c3-36a0e9d3aa14"
      },
      "execution_count": 5,
      "outputs": [
        {
          "output_type": "stream",
          "name": "stdout",
          "text": [
            "Pyt\n"
          ]
        }
      ]
    },
    {
      "cell_type": "code",
      "source": [
        "# 4. Convert the string \"hello\" to uppercase\n",
        "uppercase_string = \"hello\".upper()\n",
        "print(uppercase_string)"
      ],
      "metadata": {
        "colab": {
          "base_uri": "https://localhost:8080/"
        },
        "id": "h1pRNQ_jAdqh",
        "outputId": "ceef4c4b-7b82-4513-8735-3bbd980ea0f0"
      },
      "execution_count": 6,
      "outputs": [
        {
          "output_type": "stream",
          "name": "stdout",
          "text": [
            "HELLO\n"
          ]
        }
      ]
    },
    {
      "cell_type": "code",
      "source": [
        "# 5. Replace the word \"apple\" with \"orange\" in the string \"I like apple\"\n",
        "modified_string = \"I like apple\".replace(\"apple\", \"orange\")\n",
        "print(modified_string)"
      ],
      "metadata": {
        "colab": {
          "base_uri": "https://localhost:8080/"
        },
        "id": "1XgP-Go0AdoG",
        "outputId": "8f9f9162-eba5-47f9-ea8a-bf97365a2f72"
      },
      "execution_count": 7,
      "outputs": [
        {
          "output_type": "stream",
          "name": "stdout",
          "text": [
            "I like orange\n"
          ]
        }
      ]
    },
    {
      "cell_type": "code",
      "source": [
        "# 6. Create a list with numbers 1 to 5 and print it\n",
        "num_list = [1, 2, 3, 4, 5]\n",
        "print(num_list)"
      ],
      "metadata": {
        "colab": {
          "base_uri": "https://localhost:8080/"
        },
        "id": "FjGlPICIAdla",
        "outputId": "ff258af9-0c9a-4752-9baa-9661b2e01c1d"
      },
      "execution_count": 8,
      "outputs": [
        {
          "output_type": "stream",
          "name": "stdout",
          "text": [
            "[1, 2, 3, 4, 5]\n"
          ]
        }
      ]
    },
    {
      "cell_type": "code",
      "source": [
        "# 7. Append the number 10 to the list [1, 2, 3, 4]\n",
        "num_list_append = [1, 2, 3, 4]\n",
        "num_list_append.append(10)\n",
        "print(num_list_append)\n"
      ],
      "metadata": {
        "colab": {
          "base_uri": "https://localhost:8080/"
        },
        "id": "W6b0KVRlAdjB",
        "outputId": "03f09884-d900-4b51-f958-7fd2fadedd91"
      },
      "execution_count": 9,
      "outputs": [
        {
          "output_type": "stream",
          "name": "stdout",
          "text": [
            "[1, 2, 3, 4, 10]\n"
          ]
        }
      ]
    },
    {
      "cell_type": "code",
      "source": [
        "# 8. Remove the number 3 from the list [1, 2, 3, 4, 5]\n",
        "num_list_remove = [1, 2, 3, 4, 5]\n",
        "num_list_remove.remove(3)\n",
        "print(num_list_remove)"
      ],
      "metadata": {
        "colab": {
          "base_uri": "https://localhost:8080/"
        },
        "id": "lWtd0PR8Adcw",
        "outputId": "435a7dc7-03eb-4481-862f-c5860c78182e"
      },
      "execution_count": 10,
      "outputs": [
        {
          "output_type": "stream",
          "name": "stdout",
          "text": [
            "[1, 2, 4, 5]\n"
          ]
        }
      ]
    },
    {
      "cell_type": "code",
      "source": [
        "# 9. Access the second element in the list ['a', 'b', 'c', 'd']\n",
        "char_list = ['a', 'b', 'c', 'd']\n",
        "second_element = char_list[1]\n",
        "print(second_element)"
      ],
      "metadata": {
        "colab": {
          "base_uri": "https://localhost:8080/"
        },
        "id": "MOVdvInpAdaM",
        "outputId": "017be4dc-907c-4992-e24e-436fbddf7cae"
      },
      "execution_count": 11,
      "outputs": [
        {
          "output_type": "stream",
          "name": "stdout",
          "text": [
            "b\n"
          ]
        }
      ]
    },
    {
      "cell_type": "code",
      "source": [
        "# 10. Reverse the list [10, 20, 30, 40, 50]\n",
        "reverse_list = [10, 20, 30, 40, 50]\n",
        "reverse_list.reverse()\n",
        "print(reverse_list)"
      ],
      "metadata": {
        "colab": {
          "base_uri": "https://localhost:8080/"
        },
        "id": "OTtjEv52AdSI",
        "outputId": "277375a4-7401-4c79-c03c-1d29a75e9d97"
      },
      "execution_count": 12,
      "outputs": [
        {
          "output_type": "stream",
          "name": "stdout",
          "text": [
            "[50, 40, 30, 20, 10]\n"
          ]
        }
      ]
    }
  ]
}